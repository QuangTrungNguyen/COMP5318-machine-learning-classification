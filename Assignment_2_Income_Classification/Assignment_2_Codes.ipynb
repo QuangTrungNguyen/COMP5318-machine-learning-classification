{
 "cells": [
  {
   "cell_type": "code",
   "execution_count": 2,
   "metadata": {
    "colab": {
     "autoexec": {
      "startup": false,
      "wait_interval": 0
     }
    },
    "colab_type": "code",
    "id": "n76wi6YuFy8j"
   },
   "outputs": [],
   "source": [
    "''' Import libraries '''\n",
    "import time\n",
    "import numpy as np\n",
    "import pandas as pd\n",
    "import itertools\n",
    "import matplotlib.pyplot as plt\n",
    "\n",
    "from sklearn.cross_validation import train_test_split\n",
    "from sklearn.model_selection import StratifiedKFold\n",
    "from sklearn.metrics import accuracy_score\n",
    "from sklearn.metrics import precision_recall_fscore_support\n",
    "from sklearn.metrics import confusion_matrix\n",
    "from sklearn.ensemble import RandomForestClassifier\n",
    "from sklearn.preprocessing import StandardScaler\n",
    "from sklearn.metrics import make_scorer\n",
    "from pyspark import SparkContext\n",
    "from spark_sklearn import GridSearchCV\n",
    "\n",
    "from xgboost.sklearn import XGBClassifier\n",
    "from keras.models import Sequential\n",
    "from keras.layers import Dense, Dropout\n",
    "from keras.wrappers.scikit_learn import KerasClassifier"
   ]
  },
  {
   "cell_type": "markdown",
   "metadata": {
    "colab_type": "text",
    "id": "35W24GJ7Fy8o"
   },
   "source": [
    "## DATA PREPROCESSING"
   ]
  },
  {
   "cell_type": "markdown",
   "metadata": {
    "colab_type": "text",
    "id": "pbMiw3WxFy8q"
   },
   "source": [
    "### Import Datasets"
   ]
  },
  {
   "cell_type": "code",
   "execution_count": 3,
   "metadata": {
    "colab": {
     "autoexec": {
      "startup": false,
      "wait_interval": 0
     }
    },
    "colab_type": "code",
    "id": "LYkEIz8GFy8r"
   },
   "outputs": [
    {
     "name": "stdout",
     "output_type": "stream",
     "text": [
      "Train Set: (32561, 15)\n",
      "Test Set: (16281, 15)\n"
     ]
    },
    {
     "data": {
      "text/html": [
       "<div>\n",
       "<style scoped>\n",
       "    .dataframe tbody tr th:only-of-type {\n",
       "        vertical-align: middle;\n",
       "    }\n",
       "\n",
       "    .dataframe tbody tr th {\n",
       "        vertical-align: top;\n",
       "    }\n",
       "\n",
       "    .dataframe thead th {\n",
       "        text-align: right;\n",
       "    }\n",
       "</style>\n",
       "<table border=\"1\" class=\"dataframe\">\n",
       "  <thead>\n",
       "    <tr style=\"text-align: right;\">\n",
       "      <th></th>\n",
       "      <th>age</th>\n",
       "      <th>work_class</th>\n",
       "      <th>fnlwgt</th>\n",
       "      <th>education</th>\n",
       "      <th>education_num</th>\n",
       "      <th>marital_status</th>\n",
       "      <th>occupation</th>\n",
       "      <th>relationship</th>\n",
       "      <th>race</th>\n",
       "      <th>sex</th>\n",
       "      <th>capital_gain</th>\n",
       "      <th>capital_loss</th>\n",
       "      <th>hours_per_week</th>\n",
       "      <th>native_country</th>\n",
       "      <th>income</th>\n",
       "    </tr>\n",
       "  </thead>\n",
       "  <tbody>\n",
       "    <tr>\n",
       "      <th>0</th>\n",
       "      <td>39</td>\n",
       "      <td>State-gov</td>\n",
       "      <td>77516</td>\n",
       "      <td>Bachelors</td>\n",
       "      <td>13</td>\n",
       "      <td>Never-married</td>\n",
       "      <td>Adm-clerical</td>\n",
       "      <td>Not-in-family</td>\n",
       "      <td>White</td>\n",
       "      <td>Male</td>\n",
       "      <td>2174</td>\n",
       "      <td>0</td>\n",
       "      <td>40</td>\n",
       "      <td>United-States</td>\n",
       "      <td>&lt;=50K</td>\n",
       "    </tr>\n",
       "    <tr>\n",
       "      <th>1</th>\n",
       "      <td>50</td>\n",
       "      <td>Self-emp-not-inc</td>\n",
       "      <td>83311</td>\n",
       "      <td>Bachelors</td>\n",
       "      <td>13</td>\n",
       "      <td>Married-civ-spouse</td>\n",
       "      <td>Exec-managerial</td>\n",
       "      <td>Husband</td>\n",
       "      <td>White</td>\n",
       "      <td>Male</td>\n",
       "      <td>0</td>\n",
       "      <td>0</td>\n",
       "      <td>13</td>\n",
       "      <td>United-States</td>\n",
       "      <td>&lt;=50K</td>\n",
       "    </tr>\n",
       "    <tr>\n",
       "      <th>2</th>\n",
       "      <td>38</td>\n",
       "      <td>Private</td>\n",
       "      <td>215646</td>\n",
       "      <td>HS-grad</td>\n",
       "      <td>9</td>\n",
       "      <td>Divorced</td>\n",
       "      <td>Handlers-cleaners</td>\n",
       "      <td>Not-in-family</td>\n",
       "      <td>White</td>\n",
       "      <td>Male</td>\n",
       "      <td>0</td>\n",
       "      <td>0</td>\n",
       "      <td>40</td>\n",
       "      <td>United-States</td>\n",
       "      <td>&lt;=50K</td>\n",
       "    </tr>\n",
       "    <tr>\n",
       "      <th>3</th>\n",
       "      <td>53</td>\n",
       "      <td>Private</td>\n",
       "      <td>234721</td>\n",
       "      <td>11th</td>\n",
       "      <td>7</td>\n",
       "      <td>Married-civ-spouse</td>\n",
       "      <td>Handlers-cleaners</td>\n",
       "      <td>Husband</td>\n",
       "      <td>Black</td>\n",
       "      <td>Male</td>\n",
       "      <td>0</td>\n",
       "      <td>0</td>\n",
       "      <td>40</td>\n",
       "      <td>United-States</td>\n",
       "      <td>&lt;=50K</td>\n",
       "    </tr>\n",
       "    <tr>\n",
       "      <th>4</th>\n",
       "      <td>28</td>\n",
       "      <td>Private</td>\n",
       "      <td>338409</td>\n",
       "      <td>Bachelors</td>\n",
       "      <td>13</td>\n",
       "      <td>Married-civ-spouse</td>\n",
       "      <td>Prof-specialty</td>\n",
       "      <td>Wife</td>\n",
       "      <td>Black</td>\n",
       "      <td>Female</td>\n",
       "      <td>0</td>\n",
       "      <td>0</td>\n",
       "      <td>40</td>\n",
       "      <td>Cuba</td>\n",
       "      <td>&lt;=50K</td>\n",
       "    </tr>\n",
       "  </tbody>\n",
       "</table>\n",
       "</div>"
      ],
      "text/plain": [
       "   age        work_class  fnlwgt  education  education_num  \\\n",
       "0   39         State-gov   77516  Bachelors             13   \n",
       "1   50  Self-emp-not-inc   83311  Bachelors             13   \n",
       "2   38           Private  215646    HS-grad              9   \n",
       "3   53           Private  234721       11th              7   \n",
       "4   28           Private  338409  Bachelors             13   \n",
       "\n",
       "       marital_status         occupation   relationship   race     sex  \\\n",
       "0       Never-married       Adm-clerical  Not-in-family  White    Male   \n",
       "1  Married-civ-spouse    Exec-managerial        Husband  White    Male   \n",
       "2            Divorced  Handlers-cleaners  Not-in-family  White    Male   \n",
       "3  Married-civ-spouse  Handlers-cleaners        Husband  Black    Male   \n",
       "4  Married-civ-spouse     Prof-specialty           Wife  Black  Female   \n",
       "\n",
       "   capital_gain  capital_loss  hours_per_week native_country income  \n",
       "0          2174             0              40  United-States  <=50K  \n",
       "1             0             0              13  United-States  <=50K  \n",
       "2             0             0              40  United-States  <=50K  \n",
       "3             0             0              40  United-States  <=50K  \n",
       "4             0             0              40           Cuba  <=50K  "
      ]
     },
     "execution_count": 3,
     "metadata": {},
     "output_type": "execute_result"
    }
   ],
   "source": [
    "# Define the headers since the data does not have any\n",
    "headers = [\"age\", \"work_class\", \"fnlwgt\", \"education\", \"education_num\",\n",
    "           \"marital_status\", \"occupation\", \"relationship\", \"race\",\n",
    "           \"sex\", \"capital_gain\", \"capital_loss\", \"hours_per_week\", \"native_country\",\n",
    "           \"income\"]\n",
    "\n",
    "# Read in the CSV file and convert \"?\" to NaN\n",
    "df_train = pd.read_csv(\"adult_training.csv\",\n",
    "                  header=None, names=headers, na_values=\"?\")\n",
    "df_test = pd.read_csv('adult_test.csv', \n",
    "                      header=None, names=headers, na_values=\"?\")\n",
    "print('Train Set:',df_train.shape)\n",
    "print('Test Set:',df_test.shape)\n",
    "\n",
    "df_train.head()\n"
   ]
  },
  {
   "cell_type": "markdown",
   "metadata": {
    "colab_type": "text",
    "id": "HS28jUiCFy8z"
   },
   "source": [
    "- Education is corresponding to the ranking of \"education_num\", so they are actually the same things\n",
    "- We keep the numerical one which is ”education_num” to represent the level of education"
   ]
  },
  {
   "cell_type": "code",
   "execution_count": 4,
   "metadata": {
    "colab": {
     "autoexec": {
      "startup": false,
      "wait_interval": 0
     }
    },
    "colab_type": "code",
    "id": "9HI4qDHSFy80"
   },
   "outputs": [],
   "source": [
    "# Delete 'education' column\n",
    "del df_train['education']\n",
    "del df_test['education']"
   ]
  },
  {
   "cell_type": "markdown",
   "metadata": {
    "colab_type": "text",
    "id": "olTb13ZoFy84"
   },
   "source": [
    "### One Hot Encoding"
   ]
  },
  {
   "cell_type": "markdown",
   "metadata": {
    "colab_type": "text",
    "id": "OjIk71W2Fy85"
   },
   "source": [
    "Convert categorial values into numerical"
   ]
  },
  {
   "cell_type": "code",
   "execution_count": 5,
   "metadata": {
    "colab": {
     "autoexec": {
      "startup": false,
      "wait_interval": 0
     }
    },
    "colab_type": "code",
    "id": "p3j8WoodFy86",
    "outputId": "f686e466-5872-423a-abbf-b068a58b9214"
   },
   "outputs": [
    {
     "name": "stdout",
     "output_type": "stream",
     "text": [
      "Train Set Encoded:  (32561, 91)\n",
      "Test Set Encoded:  (16281, 90)\n"
     ]
    }
   ],
   "source": [
    "train_encoded = pd.get_dummies(df_train)\n",
    "test_encoded = pd.get_dummies(df_test)\n",
    "\n",
    "# Different column size because there's a missing value 'Holand-Netherlands' \n",
    "# in variable 'native_country' in test set \n",
    "print('Train Set Encoded: ',train_encoded.shape)\n",
    "print('Test Set Encoded: ',test_encoded.shape)"
   ]
  },
  {
   "cell_type": "code",
   "execution_count": 6,
   "metadata": {
    "colab": {
     "autoexec": {
      "startup": false,
      "wait_interval": 0
     }
    },
    "colab_type": "code",
    "id": "biVJhSuIFy9A",
    "outputId": "712973fe-6b89-4008-db6b-fc7cbcc2f0be"
   },
   "outputs": [
    {
     "name": "stdout",
     "output_type": "stream",
     "text": [
      "Train Set Encoded:  (32561, 88)\n",
      "Test Set Encoded:  (16281, 88)\n"
     ]
    }
   ],
   "source": [
    "# Delete 'native_country_Holand-Netherlands' column from train set \n",
    "del train_encoded['native_country_Holand-Netherlands']\n",
    "\n",
    "# Delete 'sex_Female' & 'income_<=50K' columns since they are binary value \n",
    "# (We keep 'sex_Male' and 'income_>=50K' columns)\n",
    "del train_encoded['sex_Female']\n",
    "del train_encoded['income_<=50K']\n",
    "del test_encoded['sex_Female']\n",
    "del test_encoded['income_<=50K.']\n",
    "\n",
    "print('Train Set Encoded: ',train_encoded.shape)\n",
    "print('Test Set Encoded: ',test_encoded.shape)"
   ]
  },
  {
   "cell_type": "markdown",
   "metadata": {
    "colab_type": "text",
    "id": "7ugF6COKFy9F"
   },
   "source": [
    "We combined train and test set into a single dataset since the aim of this study is to use 10 fold cross validation\n",
    "to assess the performance of different classifiers, it is not neccessary to keep a separate validation test set"
   ]
  },
  {
   "cell_type": "code",
   "execution_count": 7,
   "metadata": {
    "colab": {
     "autoexec": {
      "startup": false,
      "wait_interval": 0
     }
    },
    "colab_type": "code",
    "id": "q6HThUGpFy9G"
   },
   "outputs": [],
   "source": [
    "combined_data = np.append(train_encoded, test_encoded, axis=0)\n",
    "# Split features and labels\n",
    "X = combined_data[:,0:87]\n",
    "y = combined_data[:,87]"
   ]
  },
  {
   "cell_type": "markdown",
   "metadata": {
    "colab_type": "text",
    "id": "5RqmgIoxFy9L"
   },
   "source": [
    "## METHODS"
   ]
  },
  {
   "cell_type": "markdown",
   "metadata": {
    "colab_type": "text",
    "id": "GpPE8PK8Fy9M"
   },
   "source": [
    "### Metrics Calculation and Visualisation"
   ]
  },
  {
   "cell_type": "code",
   "execution_count": 15,
   "metadata": {
    "colab": {
     "autoexec": {
      "startup": false,
      "wait_interval": 0
     }
    },
    "colab_type": "code",
    "id": "WDePHeaTFy9P"
   },
   "outputs": [],
   "source": [
    "\"\"\" FUNCTION TO PLOT NORMALIZED CONFUSION MATRIX FROM SKLEARN \"\"\"\n",
    "# Adapted from: http://scikit-learn.org/stable/auto_examples/model_selection/plot_confusion_matrix.html\n",
    "\n",
    "def plot_confusion_matrix(matrix, classes,\n",
    "                          title,\n",
    "                          cmap=plt.cm.Blues):\n",
    "    matrix = matrix.astype('float') / matrix.sum(axis=1)[:, np.newaxis]\n",
    "    print(\"Normalized confusion matrix\")\n",
    "    print(matrix)\n",
    "\n",
    "    plt.imshow(matrix, interpolation='nearest', cmap=cmap)\n",
    "    plt.title(title)\n",
    "    plt.colorbar()\n",
    "    ticks = np.arange(len(classes))\n",
    "    plt.xticks(ticks, classes, rotation=45)\n",
    "    plt.yticks(ticks, classes)\n",
    "\n",
    "    threshold = matrix.max() / 2.\n",
    "    for i, j in itertools.product(range(matrix.shape[0]), range(matrix.shape[1])):\n",
    "        plt.text(j, i, format(matrix[i, j], '.2f'),\n",
    "                 horizontalalignment=\"center\",\n",
    "                 color=\"white\" if matrix[i, j] > threshold else \"black\")\n",
    "\n",
    "    plt.tight_layout()\n",
    "    plt.ylabel('True label')\n",
    "    plt.xlabel('Predicted label')\n",
    "\n",
    "\"\"\" Functions for Performance Metrics \"\"\"\n",
    "\n",
    "def calculate_performance_metrics(y_true, y_pred, train=False):\n",
    "    metrics = []\n",
    "    # Calculate accuracy\n",
    "    metrics.append(accuracy_score(y_true,y_pred)*100)\n",
    "    if not train:\n",
    "        # Calculate TP,FP,TN,FN\n",
    "        cnf_matrix = confusion_matrix(y_true, y_pred)\n",
    "        # Calculate precision, recall, fscore\n",
    "        for score in precision_recall_fscore_support(y_true, y_pred, average='macro'):\n",
    "            if score != None:\n",
    "                metrics.append(score*100)\n",
    "        return metrics,cnf_matrix\n",
    "    else:\n",
    "        return metrics\n",
    "\n",
    "def display_performance_metrics(accuracy_test, accuracy_train, precision, recall, fscore, matrix, classifier, runtime):\n",
    "    print(classifier)\n",
    "    print('Total runtime is {:0.2f} seconds'.format(runtime))\n",
    "    print(\"Test Accuracy: {:0.3f}%\".format(np.mean(accuracy_test)))\n",
    "    print(\"Train Accuracy: {:0.3f}%\".format(np.mean(accuracy_train)))\n",
    "\n",
    "    cnf_matrix = np.sum(matrix,axis=0) #Sum the TP,FP,TN,FP of 10 folds\n",
    "    print('Precision: {:0.3f}, Recall: {:0.3f}, F-score: {:0.3f}'.format(np.mean(precision),np.mean(recall),np.mean(fscore)))\n",
    "    plt.figure()\n",
    "    # Plot matrix\n",
    "    plot_confusion_matrix(cnf_matrix, classes=['<50K', '>50K'],\n",
    "                          title='Confusion matrix, with normalization')\n",
    "    plt.show()"
   ]
  },
  {
   "cell_type": "markdown",
   "metadata": {
    "colab_type": "text",
    "id": "-agFe5khFy9T"
   },
   "source": [
    "### 10 fold cross validation"
   ]
  },
  {
   "cell_type": "markdown",
   "metadata": {
    "colab_type": "text",
    "id": "d2-hs7OzFy9V"
   },
   "source": [
    "We are using StratifiedKFold to ensure the ratio of samples between 2 classes are similar across each fold"
   ]
  },
  {
   "cell_type": "code",
   "execution_count": 9,
   "metadata": {
    "colab": {
     "autoexec": {
      "startup": false,
      "wait_interval": 0
     }
    },
    "colab_type": "code",
    "id": "kynkLUc9Fy9X"
   },
   "outputs": [],
   "source": [
    "# Sklearn's StratifiedKFold: http://scikit-learn.org/stable/modules/generated/sklearn.model_selection.StratifiedKFold.html\n",
    "def ten_fold_validation(X,y,classifier):\n",
    "    # Define a 10 fold model \n",
    "    kf = StratifiedKFold(n_splits=10)\n",
    "    kf.get_n_splits(X)\n",
    "    # Store performance metrics\n",
    "    accuracy_test = []\n",
    "    accuracy_train = []\n",
    "    precision = []\n",
    "    recall = []\n",
    "    fscore = []\n",
    "    matrix = [] \n",
    "    # Check runtime \n",
    "    start = time.time()\n",
    "    # Split data into 10 folds\n",
    "    for train_index, test_index in kf.split(X,y):\n",
    "        X_train = X[train_index]\n",
    "        y_train = y[train_index]\n",
    "        X_test = X[test_index]\n",
    "        y_test = y[test_index]\n",
    "        # Train model\n",
    "        if classifier == 'BINARY NEURAL NETWORK':\n",
    "            train_scores, test_scores = BinaryNeuralNetwork(X_train, y_train, X_test, y_test)\n",
    "        elif classifier == 'RANDOM FOREST':\n",
    "            train_scores, test_scores = RandomForest(X_train, y_train, X_test, y_test)\n",
    "        elif classifier == 'XGBOOST':\n",
    "            train_scores, test_scores = XGBoost(X_train, y_train, X_test, y_test)           \n",
    "        # Store metrics for each fold\n",
    "        accuracy_test.append(test_scores[0][0])\n",
    "        accuracy_train.append(train_scores[0])\n",
    "        precision.append(test_scores[0][1])\n",
    "        recall.append(test_scores[0][2])\n",
    "        fscore.append(test_scores[0][3])\n",
    "        matrix.append(test_scores[1])\n",
    "    # Calculate and display results\n",
    "    end = time.time()\n",
    "    display_performance_metrics(accuracy_test, accuracy_train, precision, recall, fscore, matrix, classifier, end-start) "
   ]
  },
  {
   "cell_type": "markdown",
   "metadata": {
    "colab_type": "text",
    "id": "rBUEN8MIFy9a"
   },
   "source": [
    "### Classifiers"
   ]
  },
  {
   "cell_type": "code",
   "execution_count": 11,
   "metadata": {
    "colab": {
     "autoexec": {
      "startup": false,
      "wait_interval": 0
     }
    },
    "colab_type": "code",
    "id": "XNa1nlKAFy9c"
   },
   "outputs": [],
   "source": [
    "''' RANDOM FOREST '''\n",
    "# http://scikit-learn.org/stable/modules/generated/sklearn.ensemble.RandomForestClassifier.html\n",
    "def RandomForest(X_train, y_train, X_test, y_test):\n",
    "    \n",
    "    # These are parameters after tuning\n",
    "    RFmodel = RandomForestClassifier(\n",
    "        n_estimators=120, \n",
    "        max_features=20, \n",
    "        criterion='gini', \n",
    "        min_samples_leaf=5, \n",
    "        random_state=100, \n",
    "        n_jobs=-1, \n",
    "        class_weight={0:0.9,1:1})\n",
    "    \n",
    "    RFmodel.fit(X_train, y_train)\n",
    "    # Prediction on test set\n",
    "    y_pred_test = RFmodel.predict(X_test)\n",
    "    # Prediction on train set\n",
    "    y_pred_train = RFmodel.predict(X_train)\n",
    "    scores_test = calculate_performance_metrics(y_test, y_pred_test)\n",
    "    scores_train = calculate_performance_metrics(y_train, y_pred_train, True)\n",
    "    return scores_train, scores_test\n",
    "\n",
    "''' XGBOOST '''\n",
    "# http://xgboost.readthedocs.io/en/latest/python/python_api.html\n",
    "def XGBoost(X_train, y_train, X_test, y_test):\n",
    "    \n",
    "    # These are parameters after tuning\n",
    "    XGBmodel = XGBClassifier(\n",
    "        silent=True, \n",
    "        learning_rate=0.3,\n",
    "        max_depth=4,\n",
    "        n_jobs=-1,\n",
    "        n_estimators=120,\n",
    "        booster='gbtree',\n",
    "        objective='binary:logistic')\n",
    "    \n",
    "    XGBmodel.fit(X_train,y_train)\n",
    "    # Prediction on test set\n",
    "    y_pred_test = XGBmodel.predict(X_test)\n",
    "    # Prediction on train set\n",
    "    y_pred_train = XGBmodel.predict(X_train)\n",
    "    scores_test = calculate_performance_metrics(y_test, y_pred_test)\n",
    "    scores_train = calculate_performance_metrics(y_train, y_pred_train, True)\n",
    "    return scores_train, scores_test\n",
    "\n",
    "''' BINARY NEURAL NETWORK '''\n",
    "# https://keras.io/models/sequential/\n",
    "def BinaryNeuralNetwork(X_train, y_train, X_test, y_test):\n",
    "    sc = StandardScaler()\n",
    "    X_train = sc.fit_transform(X_train)\n",
    "    X_test = sc.transform(X_test)\n",
    "    #Initializing Neural Network\n",
    "    classifier = Sequential()\n",
    "    # Adding the input layer and the 1st hidden layer\n",
    "    classifier.add(Dense(128,\n",
    "                         input_dim = 87, \n",
    "                         kernel_initializer = 'uniform', \n",
    "                         activation = 'relu'))\n",
    "    # Adding the 2nd hidden layer\n",
    "    classifier.add(Dense(64, \n",
    "                         activation = 'relu'))\n",
    "    # Adding the 3rd hidden layer\n",
    "    classifier.add(Dense(128, \n",
    "                         activation = 'relu'))\n",
    "    classifier.add(Dropout(0.5))      \n",
    "    # Adding the output layer\n",
    "    classifier.add(Dense(1, \n",
    "                         activation = 'sigmoid'))\n",
    "    # Compiling Neural Network\n",
    "    classifier.compile(optimizer = 'adam', \n",
    "                       loss = 'binary_crossentropy', \n",
    "                       metrics = ['accuracy'])\n",
    "    \n",
    "    # Fitting our model   \n",
    "    classifier.fit(X_train, y_train, \n",
    "                   validation_data=(X_test, y_test), \n",
    "                   batch_size = 16, \n",
    "                   epochs = 5, \n",
    "                   verbose = 1)\n",
    "    \n",
    "    # Prediction on test set\n",
    "    y_pred_test = classifier.predict(X_test)\n",
    "    y_pred_test = (y_pred_test > 0.5)\n",
    "    # Prediction on train set\n",
    "    y_pred_train = classifier.predict(X_train)\n",
    "    y_pred_train = (y_pred_train > 0.5)\n",
    "    scores_test = calculate_performance_metrics(y_test, y_pred_test)\n",
    "    scores_train = calculate_performance_metrics(y_train, y_pred_train)    \n",
    "    return scores_train, scores_test"
   ]
  },
  {
   "cell_type": "markdown",
   "metadata": {
    "colab_type": "text",
    "id": "I1CcLWowFy9h"
   },
   "source": [
    "### Parameters Tuning"
   ]
  },
  {
   "cell_type": "markdown",
   "metadata": {
    "colab_type": "text",
    "id": "FO0em-cMFy9k"
   },
   "source": [
    "#### Random Forest"
   ]
  },
  {
   "cell_type": "code",
   "execution_count": null,
   "metadata": {
    "colab": {
     "autoexec": {
      "startup": false,
      "wait_interval": 0
     }
    },
    "colab_type": "code",
    "id": "VrGa_FytFy9l",
    "outputId": "c3a8f0c3-0ebb-4eb0-e278-9613fe6c3246"
   },
   "outputs": [],
   "source": [
    "'''\n",
    "%%time\n",
    "# https://github.com/databricks/spark-sklearn\n",
    "# http://scikit-learn.org/0.16/modules/generated/sklearn.grid_search.GridSearchCV.html\n",
    "sc = SparkContext()\n",
    "param_grid = {\"max_features\": ['log2','auto',10,20,None],\n",
    "              \"min_samples_leaf\": [1,2,5,10],\n",
    "              \"n_estimators\": [10,50,100,120,140],\n",
    "              \"class_weight\": [{0:0.8,1:1},{0:0.9,1:1},{0:1,1:1}],\n",
    "              \"criterion\": [\"gini\"],\n",
    "              \"random_state\": [100],\n",
    "              \"max_depth\": [None],\n",
    "              \"n_jobs\": [-1]}\n",
    "gs = GridSearchCV(sc, estimator=RandomForestClassifier(), param_grid=param_grid, cv=10, scoring=make_scorer(accuracy_score), verbose=1) \n",
    "gs.fit(X, y)\n",
    "print('Best Parameters: ',gs.cv_results_['params'][gs.best_index_])\n",
    "sc.stop()\n",
    "'''"
   ]
  },
  {
   "cell_type": "markdown",
   "metadata": {
    "colab_type": "text",
    "id": "cwlpKTi8Fy9q"
   },
   "source": [
    "#### XGBoost"
   ]
  },
  {
   "cell_type": "code",
   "execution_count": null,
   "metadata": {
    "colab": {
     "autoexec": {
      "startup": false,
      "wait_interval": 0
     }
    },
    "colab_type": "code",
    "id": "QZt0f4zqFy9t"
   },
   "outputs": [],
   "source": [
    "'''\n",
    "%%time\n",
    "# https://github.com/databricks/spark-sklearn\n",
    "# http://scikit-learn.org/0.16/modules/generated/sklearn.grid_search.GridSearchCV.html\n",
    "sc = SparkContext()\n",
    "param_grid = {\n",
    "            \"silent\":[True],\n",
    "            \"learning_rate\": [0.3,0.35,0.4],\n",
    "            \"max_depth\": [3,4,5],\n",
    "            \"n_estimators\": [80,100,120],\n",
    "            \"n_jobs\": [-1],\n",
    "            \"objective\": [\"binary:logistic\"],\n",
    "            \"booster\": [\"gbtree\"]\n",
    "} \n",
    "gs = GridSearchCV(sc, estimator=XGBClassifier(), param_grid=param_grid, cv=10, scoring=make_scorer(accuracy_score), verbose=1) \n",
    "gs.fit(X, y) \n",
    "print('Best Parameters: ',gs.cv_results_['params'][gs.best_index_])\n",
    "sc.stop()\n",
    "'''"
   ]
  },
  {
   "cell_type": "markdown",
   "metadata": {
    "colab_type": "text",
    "id": "ECFZEvu3Fy92"
   },
   "source": [
    "## EXPERIMENTS"
   ]
  },
  {
   "cell_type": "markdown",
   "metadata": {
    "colab_type": "text",
    "id": "vSRiXUJyFy95"
   },
   "source": [
    "### Random Forest "
   ]
  },
  {
   "cell_type": "code",
   "execution_count": 15,
   "metadata": {
    "colab": {
     "autoexec": {
      "startup": false,
      "wait_interval": 0
     }
    },
    "colab_type": "code",
    "id": "IqUPo4XHFy95",
    "outputId": "c0f569a9-354d-42a6-aee8-cd2d6498afe9"
   },
   "outputs": [
    {
     "name": "stdout",
     "output_type": "stream",
     "text": [
      "RANDOM FOREST\n",
      "Total runtime is 43.98 seconds\n",
      "Test Accuracy: 86.772%\n",
      "Train Accuracy: 89.758%\n",
      "Precision: 83.046, Recall: 78.997, F-score: 80.698\n",
      "Normalized confusion matrix\n",
      "[[0.93906607 0.06093393]\n",
      " [0.35911697 0.64088303]]\n"
     ]
    },
    {
     "data": {
      "image/png": "[encoded data removed]",
      "text/plain": [
       "<matplotlib.figure.Figure at 0x10db1f898>"
      ]
     },
     "metadata": {},
     "output_type": "display_data"
    }
   ],
   "source": [
    "ten_fold_validation(X,y,'RANDOM FOREST')"
   ]
  },
  {
   "cell_type": "markdown",
   "metadata": {
    "colab_type": "text",
    "id": "8ZOyiCXSFy9_"
   },
   "source": [
    "### XGBoost"
   ]
  },
  {
   "cell_type": "code",
   "execution_count": 12,
   "metadata": {
    "colab": {
     "autoexec": {
      "startup": false,
      "wait_interval": 0
     }
    },
    "colab_type": "code",
    "id": "EWtfJrPnFy9_",
    "outputId": "b3f4ef86-8eab-4fd5-d20b-e4bbfaee4d61"
   },
   "outputs": [
    {
     "name": "stderr",
     "output_type": "stream",
     "text": [
      "/Users/aurelius/anaconda3/lib/python3.6/site-packages/sklearn/preprocessing/label.py:151: DeprecationWarning: The truth value of an empty array is ambiguous. Returning False, but in future this will result in an error. Use `array.size > 0` to check that an array is not empty.\n",
      "  if diff:\n",
      "/Users/aurelius/anaconda3/lib/python3.6/site-packages/sklearn/preprocessing/label.py:151: DeprecationWarning: The truth value of an empty array is ambiguous. Returning False, but in future this will result in an error. Use `array.size > 0` to check that an array is not empty.\n",
      "  if diff:\n",
      "/Users/aurelius/anaconda3/lib/python3.6/site-packages/sklearn/preprocessing/label.py:151: DeprecationWarning: The truth value of an empty array is ambiguous. Returning False, but in future this will result in an error. Use `array.size > 0` to check that an array is not empty.\n",
      "  if diff:\n",
      "/Users/aurelius/anaconda3/lib/python3.6/site-packages/sklearn/preprocessing/label.py:151: DeprecationWarning: The truth value of an empty array is ambiguous. Returning False, but in future this will result in an error. Use `array.size > 0` to check that an array is not empty.\n",
      "  if diff:\n",
      "/Users/aurelius/anaconda3/lib/python3.6/site-packages/sklearn/preprocessing/label.py:151: DeprecationWarning: The truth value of an empty array is ambiguous. Returning False, but in future this will result in an error. Use `array.size > 0` to check that an array is not empty.\n",
      "  if diff:\n",
      "/Users/aurelius/anaconda3/lib/python3.6/site-packages/sklearn/preprocessing/label.py:151: DeprecationWarning: The truth value of an empty array is ambiguous. Returning False, but in future this will result in an error. Use `array.size > 0` to check that an array is not empty.\n",
      "  if diff:\n",
      "/Users/aurelius/anaconda3/lib/python3.6/site-packages/sklearn/preprocessing/label.py:151: DeprecationWarning: The truth value of an empty array is ambiguous. Returning False, but in future this will result in an error. Use `array.size > 0` to check that an array is not empty.\n",
      "  if diff:\n",
      "/Users/aurelius/anaconda3/lib/python3.6/site-packages/sklearn/preprocessing/label.py:151: DeprecationWarning: The truth value of an empty array is ambiguous. Returning False, but in future this will result in an error. Use `array.size > 0` to check that an array is not empty.\n",
      "  if diff:\n",
      "/Users/aurelius/anaconda3/lib/python3.6/site-packages/sklearn/preprocessing/label.py:151: DeprecationWarning: The truth value of an empty array is ambiguous. Returning False, but in future this will result in an error. Use `array.size > 0` to check that an array is not empty.\n",
      "  if diff:\n",
      "/Users/aurelius/anaconda3/lib/python3.6/site-packages/sklearn/preprocessing/label.py:151: DeprecationWarning: The truth value of an empty array is ambiguous. Returning False, but in future this will result in an error. Use `array.size > 0` to check that an array is not empty.\n",
      "  if diff:\n",
      "/Users/aurelius/anaconda3/lib/python3.6/site-packages/sklearn/preprocessing/label.py:151: DeprecationWarning: The truth value of an empty array is ambiguous. Returning False, but in future this will result in an error. Use `array.size > 0` to check that an array is not empty.\n",
      "  if diff:\n",
      "/Users/aurelius/anaconda3/lib/python3.6/site-packages/sklearn/preprocessing/label.py:151: DeprecationWarning: The truth value of an empty array is ambiguous. Returning False, but in future this will result in an error. Use `array.size > 0` to check that an array is not empty.\n",
      "  if diff:\n",
      "/Users/aurelius/anaconda3/lib/python3.6/site-packages/sklearn/preprocessing/label.py:151: DeprecationWarning: The truth value of an empty array is ambiguous. Returning False, but in future this will result in an error. Use `array.size > 0` to check that an array is not empty.\n",
      "  if diff:\n",
      "/Users/aurelius/anaconda3/lib/python3.6/site-packages/sklearn/preprocessing/label.py:151: DeprecationWarning: The truth value of an empty array is ambiguous. Returning False, but in future this will result in an error. Use `array.size > 0` to check that an array is not empty.\n",
      "  if diff:\n",
      "/Users/aurelius/anaconda3/lib/python3.6/site-packages/sklearn/preprocessing/label.py:151: DeprecationWarning: The truth value of an empty array is ambiguous. Returning False, but in future this will result in an error. Use `array.size > 0` to check that an array is not empty.\n",
      "  if diff:\n",
      "/Users/aurelius/anaconda3/lib/python3.6/site-packages/sklearn/preprocessing/label.py:151: DeprecationWarning: The truth value of an empty array is ambiguous. Returning False, but in future this will result in an error. Use `array.size > 0` to check that an array is not empty.\n",
      "  if diff:\n",
      "/Users/aurelius/anaconda3/lib/python3.6/site-packages/sklearn/preprocessing/label.py:151: DeprecationWarning: The truth value of an empty array is ambiguous. Returning False, but in future this will result in an error. Use `array.size > 0` to check that an array is not empty.\n",
      "  if diff:\n",
      "/Users/aurelius/anaconda3/lib/python3.6/site-packages/sklearn/preprocessing/label.py:151: DeprecationWarning: The truth value of an empty array is ambiguous. Returning False, but in future this will result in an error. Use `array.size > 0` to check that an array is not empty.\n",
      "  if diff:\n",
      "/Users/aurelius/anaconda3/lib/python3.6/site-packages/sklearn/preprocessing/label.py:151: DeprecationWarning: The truth value of an empty array is ambiguous. Returning False, but in future this will result in an error. Use `array.size > 0` to check that an array is not empty.\n",
      "  if diff:\n",
      "/Users/aurelius/anaconda3/lib/python3.6/site-packages/sklearn/preprocessing/label.py:151: DeprecationWarning: The truth value of an empty array is ambiguous. Returning False, but in future this will result in an error. Use `array.size > 0` to check that an array is not empty.\n",
      "  if diff:\n"
     ]
    },
    {
     "name": "stdout",
     "output_type": "stream",
     "text": [
      "XGBOOST\n",
      "Total runtime is 134.04 seconds\n",
      "Test Accuracy: 87.523%\n",
      "Train Accuracy: 88.511%\n",
      "Precision: 84.262, Recall: 79.966, F-score: 81.768\n",
      "Normalized confusion matrix\n",
      "[[0.9445835  0.0554165 ]\n",
      " [0.34525541 0.65474459]]\n"
     ]
    },
    {
     "data": {
      "image/png": "[encoded data removed]",
      "text/plain": [
       "<matplotlib.figure.Figure at 0x1a20ee10b8>"
      ]
     },
     "metadata": {},
     "output_type": "display_data"
    }
   ],
   "source": [
    "#DeprecationWarning will be displayed due to a bug in XGBoost current model but does not effect the results\n",
    "ten_fold_validation(X,y,'XGBOOST')"
   ]
  },
  {
   "cell_type": "markdown",
   "metadata": {
    "colab_type": "text",
    "id": "KT5VWm1jFy-E"
   },
   "source": [
    "### Binary Neural Network"
   ]
  },
  {
   "cell_type": "code",
   "execution_count": 16,
   "metadata": {
    "colab": {
     "autoexec": {
      "startup": false,
      "wait_interval": 0
     }
    },
    "colab_type": "code",
    "id": "8uWNJ7flFy-G",
    "outputId": "16eef79a-31d3-4f6e-bfd1-778c828cd1ca"
   },
   "outputs": [
    {
     "name": "stderr",
     "output_type": "stream",
     "text": [
      "/Users/aurelius/anaconda3/lib/python3.6/site-packages/sklearn/utils/validation.py:444: DataConversionWarning: Data with input dtype int64 was converted to float64 by StandardScaler.\n",
      "  warnings.warn(msg, DataConversionWarning)\n"
     ]
    },
    {
     "name": "stdout",
     "output_type": "stream",
     "text": [
      "Train on 43957 samples, validate on 4885 samples\n",
      "Epoch 1/5\n",
      "43957/43957 [==============================] - 6s 131us/step - loss: 0.3353 - acc: 0.8451 - val_loss: 0.3271 - val_acc: 0.8502\n",
      "Epoch 2/5\n",
      "43957/43957 [==============================] - 5s 122us/step - loss: 0.3174 - acc: 0.8544 - val_loss: 0.3177 - val_acc: 0.8499\n",
      "Epoch 3/5\n",
      "43957/43957 [==============================] - 5s 125us/step - loss: 0.3120 - acc: 0.8570 - val_loss: 0.3180 - val_acc: 0.8504\n",
      "Epoch 4/5\n",
      "43957/43957 [==============================] - 5s 111us/step - loss: 0.3088 - acc: 0.8582 - val_loss: 0.3132 - val_acc: 0.8520\n",
      "Epoch 5/5\n",
      "43957/43957 [==============================] - 5s 111us/step - loss: 0.3053 - acc: 0.8602 - val_loss: 0.3282 - val_acc: 0.8499\n",
      "Train on 43957 samples, validate on 4885 samples\n",
      "Epoch 1/5\n",
      "43957/43957 [==============================] - 6s 133us/step - loss: 0.3351 - acc: 0.8436 - val_loss: 0.3183 - val_acc: 0.8524\n",
      "Epoch 2/5\n",
      "43957/43957 [==============================] - 5s 112us/step - loss: 0.3165 - acc: 0.8529 - val_loss: 0.3167 - val_acc: 0.8563\n",
      "Epoch 3/5\n",
      "43957/43957 [==============================] - 5s 112us/step - loss: 0.3137 - acc: 0.8555 - val_loss: 0.3158 - val_acc: 0.8559\n",
      "Epoch 4/5\n",
      "43957/43957 [==============================] - 5s 115us/step - loss: 0.3090 - acc: 0.8573 - val_loss: 0.3220 - val_acc: 0.8581\n",
      "Epoch 5/5\n",
      "43957/43957 [==============================] - 5s 113us/step - loss: 0.3064 - acc: 0.8591 - val_loss: 0.3142 - val_acc: 0.8585\n",
      "Train on 43957 samples, validate on 4885 samples\n",
      "Epoch 1/5\n",
      "43957/43957 [==============================] - 6s 135us/step - loss: 0.3357 - acc: 0.8456 - val_loss: 0.3247 - val_acc: 0.8438\n",
      "Epoch 2/5\n",
      "43957/43957 [==============================] - 5s 113us/step - loss: 0.3166 - acc: 0.8549 - val_loss: 0.3276 - val_acc: 0.8454\n",
      "Epoch 3/5\n",
      "43957/43957 [==============================] - 5s 116us/step - loss: 0.3133 - acc: 0.8561 - val_loss: 0.3208 - val_acc: 0.8442\n",
      "Epoch 4/5\n",
      "43957/43957 [==============================] - 5s 115us/step - loss: 0.3092 - acc: 0.8576 - val_loss: 0.3194 - val_acc: 0.8475\n",
      "Epoch 5/5\n",
      "43957/43957 [==============================] - 5s 115us/step - loss: 0.3064 - acc: 0.8592 - val_loss: 0.3184 - val_acc: 0.8516\n",
      "Train on 43957 samples, validate on 4885 samples\n",
      "Epoch 1/5\n",
      "43957/43957 [==============================] - 6s 138us/step - loss: 0.3359 - acc: 0.8447 - val_loss: 0.3222 - val_acc: 0.8542\n",
      "Epoch 2/5\n",
      "43957/43957 [==============================] - 5s 116us/step - loss: 0.3187 - acc: 0.8532 - val_loss: 0.3119 - val_acc: 0.8547\n",
      "Epoch 3/5\n",
      "43957/43957 [==============================] - 5s 118us/step - loss: 0.3130 - acc: 0.8564 - val_loss: 0.3092 - val_acc: 0.8583\n",
      "Epoch 4/5\n",
      "43957/43957 [==============================] - 5s 115us/step - loss: 0.3099 - acc: 0.8575 - val_loss: 0.3114 - val_acc: 0.8557\n",
      "Epoch 5/5\n",
      "43957/43957 [==============================] - 5s 120us/step - loss: 0.3075 - acc: 0.8574 - val_loss: 0.3074 - val_acc: 0.8588\n",
      "Train on 43957 samples, validate on 4885 samples\n",
      "Epoch 1/5\n",
      "43957/43957 [==============================] - 6s 144us/step - loss: 0.3369 - acc: 0.8452 - val_loss: 0.3141 - val_acc: 0.8583\n",
      "Epoch 2/5\n",
      "43957/43957 [==============================] - 5s 122us/step - loss: 0.3183 - acc: 0.8527 - val_loss: 0.3094 - val_acc: 0.8565\n",
      "Epoch 3/5\n",
      "43957/43957 [==============================] - 6s 128us/step - loss: 0.3143 - acc: 0.8542 - val_loss: 0.3064 - val_acc: 0.8635\n",
      "Epoch 4/5\n",
      "43957/43957 [==============================] - 6s 141us/step - loss: 0.3095 - acc: 0.8578 - val_loss: 0.3091 - val_acc: 0.8555\n",
      "Epoch 5/5\n",
      "43957/43957 [==============================] - 5s 124us/step - loss: 0.3060 - acc: 0.8590 - val_loss: 0.3069 - val_acc: 0.8606\n",
      "Train on 43958 samples, validate on 4884 samples\n",
      "Epoch 1/5\n",
      "43958/43958 [==============================] - 6s 147us/step - loss: 0.3367 - acc: 0.8462 - val_loss: 0.3093 - val_acc: 0.8526\n",
      "Epoch 2/5\n",
      "43958/43958 [==============================] - 5s 119us/step - loss: 0.3189 - acc: 0.8537 - val_loss: 0.3099 - val_acc: 0.8561\n",
      "Epoch 3/5\n",
      "43958/43958 [==============================] - 5s 124us/step - loss: 0.3135 - acc: 0.8564 - val_loss: 0.3086 - val_acc: 0.8536\n",
      "Epoch 4/5\n",
      "43958/43958 [==============================] - 5s 120us/step - loss: 0.3107 - acc: 0.8585 - val_loss: 0.3004 - val_acc: 0.8569\n",
      "Epoch 5/5\n",
      "43958/43958 [==============================] - 5s 120us/step - loss: 0.3079 - acc: 0.8600 - val_loss: 0.3045 - val_acc: 0.8542\n",
      "Train on 43958 samples, validate on 4884 samples\n",
      "Epoch 1/5\n",
      "43958/43958 [==============================] - 7s 149us/step - loss: 0.3352 - acc: 0.8460 - val_loss: 0.3205 - val_acc: 0.8479\n",
      "Epoch 2/5\n",
      "43958/43958 [==============================] - 5s 121us/step - loss: 0.3168 - acc: 0.8552 - val_loss: 0.3220 - val_acc: 0.8497\n",
      "Epoch 3/5\n",
      "43958/43958 [==============================] - 6s 127us/step - loss: 0.3140 - acc: 0.8559 - val_loss: 0.3177 - val_acc: 0.8524\n",
      "Epoch 4/5\n",
      "43958/43958 [==============================] - 5s 122us/step - loss: 0.3088 - acc: 0.8583 - val_loss: 0.3165 - val_acc: 0.8516\n",
      "Epoch 5/5\n",
      "43958/43958 [==============================] - 5s 123us/step - loss: 0.3058 - acc: 0.8594 - val_loss: 0.3168 - val_acc: 0.8561\n",
      "Train on 43959 samples, validate on 4883 samples\n",
      "Epoch 1/5\n",
      "43959/43959 [==============================] - 7s 151us/step - loss: 0.3358 - acc: 0.8454 - val_loss: 0.3230 - val_acc: 0.8450\n",
      "Epoch 2/5\n",
      "43959/43959 [==============================] - 5s 125us/step - loss: 0.3180 - acc: 0.8532 - val_loss: 0.3213 - val_acc: 0.8544\n",
      "Epoch 3/5\n",
      "43959/43959 [==============================] - 6s 125us/step - loss: 0.3132 - acc: 0.8554 - val_loss: 0.3154 - val_acc: 0.8575\n",
      "Epoch 4/5\n",
      "43959/43959 [==============================] - 6s 133us/step - loss: 0.3091 - acc: 0.8577 - val_loss: 0.3103 - val_acc: 0.8566\n",
      "Epoch 5/5\n",
      "43959/43959 [==============================] - 6s 129us/step - loss: 0.3055 - acc: 0.8588 - val_loss: 0.3163 - val_acc: 0.8505\n",
      "Train on 43959 samples, validate on 4883 samples\n",
      "Epoch 1/5\n",
      "43959/43959 [==============================] - 7s 157us/step - loss: 0.3347 - acc: 0.8456 - val_loss: 0.3305 - val_acc: 0.8507\n",
      "Epoch 2/5\n",
      "43959/43959 [==============================] - 6s 130us/step - loss: 0.3184 - acc: 0.8544 - val_loss: 0.3182 - val_acc: 0.8528\n",
      "Epoch 3/5\n",
      "43959/43959 [==============================] - 6s 138us/step - loss: 0.3131 - acc: 0.8568 - val_loss: 0.3152 - val_acc: 0.8560\n",
      "Epoch 4/5\n",
      "43959/43959 [==============================] - 6s 129us/step - loss: 0.3092 - acc: 0.8576 - val_loss: 0.3171 - val_acc: 0.8554\n",
      "Epoch 5/5\n",
      "43959/43959 [==============================] - 5s 117us/step - loss: 0.3073 - acc: 0.8590 - val_loss: 0.3188 - val_acc: 0.8575\n",
      "Train on 43959 samples, validate on 4883 samples\n",
      "Epoch 1/5\n",
      "43959/43959 [==============================] - 6s 144us/step - loss: 0.3351 - acc: 0.8446 - val_loss: 0.3206 - val_acc: 0.8528\n",
      "Epoch 2/5\n",
      "43959/43959 [==============================] - 6s 132us/step - loss: 0.3181 - acc: 0.8543 - val_loss: 0.3166 - val_acc: 0.8546\n",
      "Epoch 3/5\n",
      "43959/43959 [==============================] - 6s 130us/step - loss: 0.3126 - acc: 0.8554 - val_loss: 0.3235 - val_acc: 0.8554\n",
      "Epoch 4/5\n",
      "43959/43959 [==============================] - 6s 133us/step - loss: 0.3097 - acc: 0.8571 - val_loss: 0.3170 - val_acc: 0.8585\n",
      "Epoch 5/5\n",
      "43959/43959 [==============================] - 6s 132us/step - loss: 0.3066 - acc: 0.8585 - val_loss: 0.3129 - val_acc: 0.8599\n",
      "BINARY NEURAL NETWORK\n",
      "Total runtime is 296.40 seconds\n",
      "Test Accuracy: 85.576%\n",
      "Train Accuracy: 81.341%\n",
      "Precision: 81.963, Recall: 76.062, F-score: 78.276\n",
      "Normalized confusion matrix\n",
      "[[0.9430763  0.0569237 ]\n",
      " [0.42183623 0.57816377]]\n"
     ]
    },
    {
     "data": {
      "image/png": "[encoded data removed]",
      "text/plain": [
       "<matplotlib.figure.Figure at 0x1a3ca5bb70>"
      ]
     },
     "metadata": {},
     "output_type": "display_data"
    }
   ],
   "source": [
    "ten_fold_validation(X,y,'BINARY NEURAL NETWORK')"
   ]
  },
  {
   "cell_type": "code",
   "execution_count": null,
   "metadata": {
    "colab": {
     "autoexec": {
      "startup": false,
      "wait_interval": 0
     }
    },
    "colab_type": "code",
    "id": "3kBIg9_mFy-K"
   },
   "outputs": [],
   "source": []
  }
 ],
 "metadata": {
  "colab": {
   "collapsed_sections": [],
   "default_view": {},
   "name": "Final Models.ipynb",
   "provenance": [],
   "version": "0.3.2",
   "views": {}
  },
  "kernelspec": {
   "display_name": "Python 3",
   "language": "python",
   "name": "python3"
  },
  "language_info": {
   "codemirror_mode": {
    "name": "ipython",
    "version": 3
   },
   "file_extension": ".py",
   "mimetype": "text/x-python",
   "name": "python",
   "nbconvert_exporter": "python",
   "pygments_lexer": "ipython3",
   "version": "3.6.4"
  }
 },
 "nbformat": 4,
 "nbformat_minor": 2
}
